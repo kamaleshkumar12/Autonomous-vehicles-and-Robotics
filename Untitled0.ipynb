{
  "nbformat": 4,
  "nbformat_minor": 0,
  "metadata": {
    "colab": {
      "provenance": []
    },
    "kernelspec": {
      "name": "python3",
      "display_name": "Python 3"
    },
    "language_info": {
      "name": "python"
    }
  },
  "cells": [
    {
      "cell_type": "code",
      "execution_count": 1,
      "metadata": {
        "id": "aw4lOgiWPTZa",
        "outputId": "98d21326-888e-4b17-877c-0c80c6718196",
        "colab": {
          "base_uri": "https://localhost:8080/",
          "height": 428
        }
      },
      "outputs": [
        {
          "output_type": "display_data",
          "data": {
            "text/plain": [
              "<Figure size 640x480 with 1 Axes>"
            ],
            "image/png": "[encoded data removed]"
          },
          "metadata": {}
        }
      ],
      "source": [
        "import matplotlib.pyplot as plt\n",
        "import matplotlib.patches as patches\n",
        "import heapq\n",
        "\n",
        "def heuristic(a, b):\n",
        "    return abs(a[0] - b[0]) + abs(a[1] - b[1])\n",
        "\n",
        "def a_star(grid, start, goal):\n",
        "    open_set = [(0 + heuristic(start, goal), 0, start, [])]\n",
        "    visited = set()\n",
        "    while open_set:\n",
        "        _, cost, current, path = heapq.heappop(open_set)\n",
        "        if current in visited:\n",
        "            continue\n",
        "        visited.add(current)\n",
        "        path = path + [current]\n",
        "        if current == goal:\n",
        "            return path\n",
        "        for dx, dy in [(-1,0), (1,0), (0,-1), (0,1)]:\n",
        "            nx, ny = current[0] + dx, current[1] + dy\n",
        "            if 0 <= nx < len(grid) and 0 <= ny < len(grid[0]) and grid[nx][ny] == 0:\n",
        "                heapq.heappush(open_set, (cost + 1 + heuristic((nx, ny), goal), cost + 1, (nx, ny), path))\n",
        "    return []\n",
        "\n",
        "def visualize(grid, path, start, goal):\n",
        "    fig, ax = plt.subplots()\n",
        "    rows, cols = len(grid), len(grid[0])\n",
        "\n",
        "    # Draw grid\n",
        "    for x in range(rows):\n",
        "        for y in range(cols):\n",
        "            color = 'black' if grid[x][y] == 1 else 'white'\n",
        "            rect = patches.Rectangle((y, rows - 1 - x), 1, 1, edgecolor='gray', facecolor=color)\n",
        "            ax.add_patch(rect)\n",
        "\n",
        "    # Draw path\n",
        "    for (x, y) in path:\n",
        "        rect = patches.Rectangle((y, rows - 1 - x), 1, 1, facecolor='cyan')\n",
        "        ax.add_patch(rect)\n",
        "\n",
        "    # Mark start and goal\n",
        "    ax.add_patch(patches.Rectangle((start[1], rows - 1 - start[0]), 1, 1, facecolor='green'))\n",
        "    ax.add_patch(patches.Rectangle((goal[1], rows - 1 - goal[0]), 1, 1, facecolor='red'))\n",
        "\n",
        "    plt.xlim(0, cols)\n",
        "    plt.ylim(0, rows)\n",
        "    plt.gca().set_aspect('equal', adjustable='box')\n",
        "    plt.axis('off')\n",
        "    plt.title(\"A* Path Planning Visualization\")\n",
        "    plt.show()\n",
        "\n",
        "# Grid setup\n",
        "grid = [\n",
        "    [0, 0, 0, 0, 0],\n",
        "    [1, 1, 0, 1, 0],\n",
        "    [0, 0, 0, 1, 0],\n",
        "    [0, 1, 1, 1, 0],\n",
        "    [0, 0, 0, 0, 0],\n",
        "]\n",
        "start = (0, 0)\n",
        "goal = (4, 4)\n",
        "\n",
        "path = a_star(grid, start, goal)\n",
        "visualize(grid, path, start, goal)"
      ]
    }
  ]
}